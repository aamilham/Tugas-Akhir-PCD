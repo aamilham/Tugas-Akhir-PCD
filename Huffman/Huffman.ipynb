{
 "cells": [
  {
   "cell_type": "code",
   "execution_count": 1,
   "id": "9070d727",
   "metadata": {},
   "outputs": [],
   "source": [
    "from PIL import Image\n",
    "import os\n",
    "import cv2\n",
    "import matplotlib.pyplot as plt\n",
    "from collections import Counter\n",
    "import statistics\n",
    "import numpy as np\n",
    "import heapq\n"
   ]
  },
  {
   "cell_type": "code",
   "execution_count": 2,
   "id": "088672ca",
   "metadata": {},
   "outputs": [],
   "source": [
    "def build_frequency(pixel_array):\n",
    "    return Counter(pixel_array)\n",
    "\n",
    "class Node:\n",
    "    def __init__(self, left=None, right=None, root=None):\n",
    "        self.left = left\n",
    "        self.right = right\n",
    "        self.root = root\n",
    "\n",
    "    def children(self):\n",
    "        return (self.left, self.right)\n",
    "\n",
    "    def __lt__(self, other):\n",
    "        return self.root < other.root"
   ]
  },
  {
   "cell_type": "code",
   "execution_count": 3,
   "id": "1ede6dcc",
   "metadata": {},
   "outputs": [],
   "source": [
    "def build_tree(frequencies):\n",
    "    heap = [Node(root=freq, left=symbol) for symbol, freq in frequencies.items()]\n",
    "    heapq.heapify(heap)\n",
    "    while len(heap) > 1:\n",
    "        left = heapq.heappop(heap)\n",
    "        right = heapq.heappop(heap)\n",
    "        node = Node(left=left, right=right, root=left.root + right.root)\n",
    "        heapq.heappush(heap, node)\n",
    "    return heap[0]"
   ]
  },
  {
   "cell_type": "code",
   "execution_count": 4,
   "id": "4572ece1",
   "metadata": {},
   "outputs": [],
   "source": [
    "def assign_codes(node, prefix=\"\", code=None):\n",
    "    if code is None:\n",
    "        code = {}\n",
    "    if isinstance(node.left, Node):\n",
    "        assign_codes(node.left, prefix + \"0\", code)\n",
    "    else:\n",
    "        code[node.left] = prefix or \"0\"\n",
    "    if isinstance(node.right, Node):\n",
    "        assign_codes(node.right, prefix + \"1\", code)\n",
    "    else:\n",
    "        code[node.right] = prefix or \"0\"\n",
    "    return code\n"
   ]
  },
  {
   "cell_type": "code",
   "execution_count": 5,
   "id": "3e22c23a",
   "metadata": {},
   "outputs": [],
   "source": [
    "def compute_stats(data):\n",
    "    return [\n",
    "        f\"{min(data):.2f}\",\n",
    "        f\"{max(data):.2f}\",\n",
    "        f\"{statistics.mean(data):.2f}\",\n",
    "        f\"{statistics.median(data):.2f}\",\n",
    "        f\"{statistics.stdev(data):.2f}\"\n",
    "    ]"
   ]
  },
  {
   "cell_type": "code",
   "execution_count": 6,
   "id": "aecd1eab",
   "metadata": {},
   "outputs": [],
   "source": [
    "directory = \"../asset\"\n",
    "original_sizes = []\n",
    "encoded_sizes = []\n",
    "compression_ratios = []"
   ]
  },
  {
   "cell_type": "code",
   "execution_count": 7,
   "id": "20cf63ab",
   "metadata": {},
   "outputs": [
    {
     "name": "stdout",
     "output_type": "stream",
     "text": [
      "Total images: 757\n",
      "0%\n",
      "10%\n",
      "20%\n",
      "30%\n",
      "40%\n",
      "50%\n",
      "59%\n",
      "69%\n",
      "79%\n",
      "89%\n",
      "99%\n"
     ]
    }
   ],
   "source": [
    "image_filenames = [filename for filename in os.listdir(directory) if filename.endswith(\".jpg\")]\n",
    "print(f\"Total images: {len(image_filenames)}\")\n",
    "increment = len(image_filenames) / 10\n",
    "for idx, filename in enumerate(image_filenames):\n",
    "    if idx % int(increment) == 0:\n",
    "        percent = idx / len(image_filenames) * 100\n",
    "        print(f\"{percent:.0f}%\")\n",
    "    image_path = os.path.join(directory, filename)\n",
    "    img = cv2.imread(image_path, cv2.IMREAD_GRAYSCALE)\n",
    "    if img is not None:\n",
    "        pixels = list(img.flatten())\n",
    "        frequency = build_frequency(pixels)\n",
    "        huffman_tree = build_tree(frequency)\n",
    "        huffman_codes = assign_codes(huffman_tree)\n",
    "        encoded_image = ''.join(huffman_codes[pixel] for pixel in pixels)\n",
    "\n",
    "        original_size = len(pixels) * 8\n",
    "        encoded_size = len(encoded_image)\n",
    "        compression_ratio = encoded_size / original_size if encoded_size != 0 else 0\n",
    "\n",
    "        original_sizes.append(original_size / 1024)\n",
    "        encoded_sizes.append(encoded_size / 1024)\n",
    "        compression_ratios.append(compression_ratio)\n"
   ]
  },
  {
   "cell_type": "code",
   "execution_count": 8,
   "id": "fdb46aac",
   "metadata": {},
   "outputs": [
    {
     "data": {
      "image/png": "[encoded data removed]",
      "text/plain": [
       "<Figure size 1000x400 with 1 Axes>"
      ]
     },
     "metadata": {},
     "output_type": "display_data"
    }
   ],
   "source": [
    "stats = {\n",
    "    \"Original Size\": compute_stats(original_sizes),\n",
    "    \"Encoded Size\": compute_stats(encoded_sizes),\n",
    "    \"Compression Ratio\": compute_stats(compression_ratios)\n",
    "}\n",
    "\n",
    "fig, ax = plt.subplots(figsize=(10, 4))\n",
    "ax.axis('tight')\n",
    "ax.axis('off')\n",
    "column_labels = [\"Type\", \"Min\", \"Max\", \"Average\", \"Median\", \"StDev\"]\n",
    "table_data = [[key] + value for key, value in stats.items()]\n",
    "table = ax.table(cellText=table_data, colLabels=column_labels, loc='center', cellLoc='center')\n",
    "table.auto_set_font_size(False)\n",
    "table.set_fontsize(10)\n",
    "table.scale(1, 1.5)\n",
    "plt.show()"
   ]
  }
 ],
 "metadata": {
  "kernelspec": {
   "display_name": "Python 3",
   "language": "python",
   "name": "python3"
  },
  "language_info": {
   "codemirror_mode": {
    "name": "ipython",
    "version": 3
   },
   "file_extension": ".py",
   "mimetype": "text/x-python",
   "name": "python",
   "nbconvert_exporter": "python",
   "pygments_lexer": "ipython3",
   "version": "3.11.0"
  }
 },
 "nbformat": 4,
 "nbformat_minor": 5
}
