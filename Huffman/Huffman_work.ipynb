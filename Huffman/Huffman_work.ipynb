{
 "cells": [
  {
   "cell_type": "code",
   "execution_count": 1,
   "id": "ee95458d",
   "metadata": {},
   "outputs": [],
   "source": [
    "from PIL import Image\n",
    "import numpy as np\n",
    "from collections import Counter\n",
    "import heapq\n",
    "\n",
    "# Load the image\n",
    "img_path = 'pisang2/pisang2_grayscale.jpg'\n",
    "img = Image.open(img_path)\n",
    "\n",
    "# Convert image to grayscale\n",
    "img_gray = img.convert(\"L\")\n",
    "\n",
    "# Get the pixel values\n",
    "pixels = np.array(img_gray).flatten()"
   ]
  },
  {
   "cell_type": "code",
   "execution_count": 2,
   "id": "b9cd1533",
   "metadata": {},
   "outputs": [],
   "source": [
    "# Calculate frequency of each pixel value\n",
    "freq = Counter(pixels)\n",
    "\n",
    "# Huffman tree node class\n",
    "class Node:\n",
    "    def __init__(self, left=None, right=None, root=None):\n",
    "        self.left = left\n",
    "        self.right = right\n",
    "        self.root = root\n",
    "\n",
    "    def children(self):\n",
    "        return (self.left, self.right)\n",
    "\n",
    "    def __lt__(self, other):\n",
    "        return self.root < other.root"
   ]
  },
  {
   "cell_type": "code",
   "execution_count": 3,
   "id": "9aab6e51",
   "metadata": {},
   "outputs": [],
   "source": [
    "# Build Huffman Tree\n",
    "def build_huffman_tree(frequencies):\n",
    "    heap = [Node(root=freq, left=symbol) for symbol, freq in frequencies.items()]\n",
    "    heapq.heapify(heap)\n",
    "    while len(heap) > 1:\n",
    "        left = heapq.heappop(heap)\n",
    "        right = heapq.heappop(heap)\n",
    "        node = Node(left=left, right=right, root=left.root + right.root)\n",
    "        heapq.heappush(heap, node)\n",
    "    return heap[0]"
   ]
  },
  {
   "cell_type": "code",
   "execution_count": 4,
   "id": "1ce4bbb3",
   "metadata": {},
   "outputs": [],
   "source": [
    "# Assign codes to leaves of Huffman tree\n",
    "def assign_codes(node, prefix=\"\", code={}):\n",
    "    if isinstance(node.left, Node):\n",
    "        assign_codes(node.left, prefix + \"0\", code)\n",
    "    else:\n",
    "        code[node.left] = prefix or \"0\"\n",
    "    if isinstance(node.right, Node):\n",
    "        assign_codes(node.right, prefix + \"1\", code)\n",
    "    else:\n",
    "        code[node.right] = prefix or \"0\"\n",
    "    return code"
   ]
  },
  {
   "cell_type": "code",
   "execution_count": 5,
   "id": "3387d706",
   "metadata": {},
   "outputs": [
    {
     "data": {
      "text/plain": [
       "[(103, '000000'),\n",
       " (None, '111111'),\n",
       " (108, '000001'),\n",
       " (75, '0000100'),\n",
       " (147, '000010100'),\n",
       " (153, '000010101'),\n",
       " (198, '000010110'),\n",
       " (214, '000010111'),\n",
       " (106, '000011'),\n",
       " (107, '000100')]"
      ]
     },
     "execution_count": 5,
     "metadata": {},
     "output_type": "execute_result"
    }
   ],
   "source": [
    "# Build the tree and assign codes\n",
    "huffman_tree = build_huffman_tree(freq)\n",
    "huffman_codes = assign_codes(huffman_tree)\n",
    "\n",
    "# Display some of the codes\n",
    "list(huffman_codes.items())[:10]"
   ]
  },
  {
   "cell_type": "code",
   "execution_count": 6,
   "id": "68ec5a84",
   "metadata": {},
   "outputs": [
    {
     "data": {
      "text/plain": [
       "(1384448, 1160003, 1.1934865685692193)"
      ]
     },
     "execution_count": 6,
     "metadata": {},
     "output_type": "execute_result"
    }
   ],
   "source": [
    "# Encode the image using Huffman codes\n",
    "encoded_image = ''.join(huffman_codes[pixel] for pixel in pixels)\n",
    "\n",
    "# Calculate the total number of bits in the original image (8 bits per pixel)\n",
    "original_bits = len(pixels) * 8\n",
    "\n",
    "# Calculate the total number of bits in the encoded image\n",
    "encoded_bits = len(encoded_image)\n",
    "\n",
    "# Calculate compression ratio\n",
    "compression_ratio = original_bits / encoded_bits\n",
    "\n",
    "original_bits, encoded_bits, compression_ratio"
   ]
  },
  {
   "cell_type": "code",
   "execution_count": 7,
   "id": "ca7db9e0",
   "metadata": {},
   "outputs": [
    {
     "data": {
      "text/plain": [
       "'pisang2/pisang2_compress.jpg'"
      ]
     },
     "execution_count": 7,
     "metadata": {},
     "output_type": "execute_result"
    }
   ],
   "source": [
    "# Decode Huffman Codes back to pixel values\n",
    "def decode_huffman(encoded_str, huffman_codes):\n",
    "    reverse_huffman_codes = {v: k for k, v in huffman_codes.items()}\n",
    "    current_code = ''\n",
    "    decoded_pixels = []\n",
    "    for bit in encoded_str:\n",
    "        current_code += bit\n",
    "        if current_code in reverse_huffman_codes:\n",
    "            decoded_pixels.append(reverse_huffman_codes[current_code])\n",
    "            current_code = ''\n",
    "    return decoded_pixels\n",
    "\n",
    "# Decode the encoded image\n",
    "decoded_pixels = decode_huffman(encoded_image, huffman_codes)\n",
    "\n",
    "# Create an image from the decoded pixel values\n",
    "decoded_image = Image.new('L', img_gray.size)\n",
    "decoded_image.putdata(decoded_pixels)\n",
    "decoded_image_path = 'pisang2/pisang2_compress.jpg'\n",
    "decoded_image.save(decoded_image_path)\n",
    "\n",
    "decoded_image_path\n"
   ]
  }
 ],
 "metadata": {
  "kernelspec": {
   "display_name": "Python 3",
   "language": "python",
   "name": "python3"
  },
  "language_info": {
   "codemirror_mode": {
    "name": "ipython",
    "version": 3
   },
   "file_extension": ".py",
   "mimetype": "text/x-python",
   "name": "python",
   "nbconvert_exporter": "python",
   "pygments_lexer": "ipython3",
   "version": "3.11.0"
  }
 },
 "nbformat": 4,
 "nbformat_minor": 5
}
