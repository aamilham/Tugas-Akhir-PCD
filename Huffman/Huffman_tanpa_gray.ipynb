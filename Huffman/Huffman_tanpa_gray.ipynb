{
 "cells": [
  {
   "cell_type": "code",
   "execution_count": 16,
   "id": "ee95458d",
   "metadata": {},
   "outputs": [],
   "source": [
    "from PIL import Image\n",
    "import numpy as np\n",
    "from collections import Counter\n",
    "import heapq\n",
    "\n",
    "img_path = 'asset/pisang4_grayscale.jpg'\n",
    "img_gray = Image.open(img_path)\n",
    "\n",
    "pixels = np.array(img_gray).flatten()"
   ]
  },
  {
   "cell_type": "code",
   "execution_count": 17,
   "id": "b9cd1533",
   "metadata": {},
   "outputs": [],
   "source": [
    "freq = Counter(pixels)\n",
    "\n",
    "class Node:\n",
    "    def __init__(self, left=None, right=None, root=None):\n",
    "        self.left = left\n",
    "        self.right = right\n",
    "        self.root = root\n",
    "\n",
    "    def children(self):\n",
    "        return (self.left, self.right)\n",
    "\n",
    "    def __lt__(self, other):\n",
    "        return self.root < other.root"
   ]
  },
  {
   "cell_type": "code",
   "execution_count": 18,
   "id": "9aab6e51",
   "metadata": {},
   "outputs": [],
   "source": [
    "def build_huffman_tree(frequencies):\n",
    "    heap = [Node(root=freq, left=symbol) for symbol, freq in frequencies.items()]\n",
    "    heapq.heapify(heap)\n",
    "    while len(heap) > 1:\n",
    "        left = heapq.heappop(heap)\n",
    "        right = heapq.heappop(heap)\n",
    "        node = Node(left=left, right=right, root=left.root + right.root)\n",
    "        heapq.heappush(heap, node)\n",
    "    return heap[0]"
   ]
  },
  {
   "cell_type": "code",
   "execution_count": 19,
   "id": "1ce4bbb3",
   "metadata": {},
   "outputs": [],
   "source": [
    "def assign_codes(node, prefix=\"\", code={}):\n",
    "    if isinstance(node.left, Node):\n",
    "        assign_codes(node.left, prefix + \"0\", code)\n",
    "    else:\n",
    "        code[node.left] = prefix or \"0\"\n",
    "    if isinstance(node.right, Node):\n",
    "        assign_codes(node.right, prefix + \"1\", code)\n",
    "    else:\n",
    "        code[node.right] = prefix or \"0\"\n",
    "    return code"
   ]
  },
  {
   "cell_type": "code",
   "execution_count": 20,
   "id": "3387d706",
   "metadata": {},
   "outputs": [
    {
     "data": {
      "text/plain": [
       "[(70, '0000000'),\n",
       " (None, '1111111'),\n",
       " (139, '0000001'),\n",
       " (107, '000001'),\n",
       " (106, '000010'),\n",
       " (129, '000011'),\n",
       " (85, '0001000'),\n",
       " (197, '00010010'),\n",
       " (62, '0001001100'),\n",
       " (47, '00010011010')]"
      ]
     },
     "execution_count": 20,
     "metadata": {},
     "output_type": "execute_result"
    }
   ],
   "source": [
    "huffman_tree = build_huffman_tree(freq)\n",
    "huffman_codes = assign_codes(huffman_tree)\n",
    "\n",
    "list(huffman_codes.items())[:10]"
   ]
  },
  {
   "cell_type": "code",
   "execution_count": 21,
   "id": "68ec5a84",
   "metadata": {},
   "outputs": [
    {
     "data": {
      "text/plain": [
       "(1384448, 1233440, 1.1224283305227656)"
      ]
     },
     "execution_count": 21,
     "metadata": {},
     "output_type": "execute_result"
    }
   ],
   "source": [
    "encoded_image = ''.join(huffman_codes[pixel] for pixel in pixels)\n",
    "\n",
    "original_bits = len(pixels) * 8\n",
    "\n",
    "encoded_bits = len(encoded_image)\n",
    "\n",
    "compression_ratio = original_bits / encoded_bits\n",
    "\n",
    "original_bits, encoded_bits, compression_ratio"
   ]
  },
  {
   "cell_type": "code",
   "execution_count": 22,
   "id": "ca7db9e0",
   "metadata": {},
   "outputs": [
    {
     "data": {
      "text/plain": [
       "'asset/pisang4_compress.jpg'"
      ]
     },
     "execution_count": 22,
     "metadata": {},
     "output_type": "execute_result"
    }
   ],
   "source": [
    "def decode_huffman(encoded_str, huffman_codes):\n",
    "    reverse_huffman_codes = {v: k for k, v in huffman_codes.items()}\n",
    "    current_code = ''\n",
    "    decoded_pixels = []\n",
    "    for bit in encoded_str:\n",
    "        current_code += bit\n",
    "        if current_code in reverse_huffman_codes:\n",
    "            decoded_pixels.append(reverse_huffman_codes[current_code])\n",
    "            current_code = ''\n",
    "    return decoded_pixels\n",
    "\n",
    "decoded_pixels = decode_huffman(encoded_image, huffman_codes)\n",
    "\n",
    "decoded_image = Image.new('L', img_gray.size)\n",
    "decoded_image.putdata(decoded_pixels)\n",
    "decoded_image_path = 'asset/pisang4_compress.jpg'\n",
    "decoded_image.save(decoded_image_path)\n",
    "\n",
    "decoded_image_path\n"
   ]
  }
 ],
 "metadata": {
  "kernelspec": {
   "display_name": "Python 3",
   "language": "python",
   "name": "python3"
  },
  "language_info": {
   "codemirror_mode": {
    "name": "ipython",
    "version": 3
   },
   "file_extension": ".py",
   "mimetype": "text/x-python",
   "name": "python",
   "nbconvert_exporter": "python",
   "pygments_lexer": "ipython3",
   "version": "3.11.0"
  }
 },
 "nbformat": 4,
 "nbformat_minor": 5
}
