{
 "cells": [
  {
   "cell_type": "code",
   "execution_count": 4,
   "metadata": {},
   "outputs": [],
   "source": [
    "import cv2\n",
    "import numpy as np\n",
    "import os"
   ]
  },
  {
   "cell_type": "code",
   "execution_count": 8,
   "metadata": {},
   "outputs": [],
   "source": [
    "# Baca gambar\n",
    "gambar1 = cv2.imread('asset/pisang4_grayscale.jpg')\n",
    "gambar2 = cv2.imread('asset/pisang4_compress.jpg')\n",
    "\n",
    "gambar_gabungan = np.hstack((gambar1, gambar2))\n",
    "\n",
    "size1 = os.path.getsize('asset/pisang4_grayscale.jpg') / 1024  # Konversi byte ke kilobyte\n",
    "size2 = os.path.getsize('asset/pisang4_compress.jpg') / 1024  # Konversi byte ke kilobyte\n",
    "\n",
    "# Informasi untuk ditampilkan\n",
    "title1 = \"Grayscale\"\n",
    "title2 = \"Compressed\"\n",
    "size_info1 = f\"{size1:.2f} KB\"\n",
    "size_info2 = f\"{size2:.2f} KB\"\n",
    "\n",
    "# Tambahkan teks judul dan ukuran pada gambar gabungan\n",
    "cv2.putText(gambar_gabungan, f\"{title1}, Ukuran: {size_info1}\", (10, 30), cv2.FONT_HERSHEY_SIMPLEX, 0.7, (255, 255, 255), 2)\n",
    "cv2.putText(gambar_gabungan, f\"{title2}, Ukuran: {size_info2}\", (430, 30), cv2.FONT_HERSHEY_SIMPLEX, 0.7, (255, 255, 255), 2)\n",
    "\n",
    "# Tampilkan gambar\n",
    "cv2.imshow('Gambar 1 dan Gambar 2', gambar_gabungan)\n",
    "cv2.waitKey(0)\n",
    "cv2.destroyAllWindows()"
   ]
  }
 ],
 "metadata": {
  "kernelspec": {
   "display_name": "Python 3",
   "language": "python",
   "name": "python3"
  },
  "language_info": {
   "codemirror_mode": {
    "name": "ipython",
    "version": 3
   },
   "file_extension": ".py",
   "mimetype": "text/x-python",
   "name": "python",
   "nbconvert_exporter": "python",
   "pygments_lexer": "ipython3",
   "version": "3.11.0"
  }
 },
 "nbformat": 4,
 "nbformat_minor": 2
}
